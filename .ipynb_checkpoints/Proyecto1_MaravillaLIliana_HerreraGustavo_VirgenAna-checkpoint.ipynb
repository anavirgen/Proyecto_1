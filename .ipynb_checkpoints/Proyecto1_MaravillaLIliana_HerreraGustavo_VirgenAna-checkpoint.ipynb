{
 "cells": [
  {
   "cell_type": "code",
   "execution_count": 3,
   "metadata": {},
   "outputs": [],
   "source": [
    "import numpy as np\n",
    "import matplotlib.pyplot as plt\n",
    "%matplotlib inline"
   ]
  },
  {
   "cell_type": "code",
   "execution_count": 4,
   "metadata": {},
   "outputs": [],
   "source": [
    "import pandas as pd"
   ]
  },
  {
   "cell_type": "code",
   "execution_count": 5,
   "metadata": {},
   "outputs": [
    {
     "data": {
      "text/html": [
       "<div>\n",
       "<style scoped>\n",
       "    .dataframe tbody tr th:only-of-type {\n",
       "        vertical-align: middle;\n",
       "    }\n",
       "\n",
       "    .dataframe tbody tr th {\n",
       "        vertical-align: top;\n",
       "    }\n",
       "\n",
       "    .dataframe thead th {\n",
       "        text-align: right;\n",
       "    }\n",
       "</style>\n",
       "<table border=\"1\" class=\"dataframe\">\n",
       "  <thead>\n",
       "    <tr style=\"text-align: right;\">\n",
       "      <th></th>\n",
       "      <th>0</th>\n",
       "      <th>1</th>\n",
       "    </tr>\n",
       "  </thead>\n",
       "  <tbody>\n",
       "    <tr>\n",
       "      <th>0</th>\n",
       "      <td>1970</td>\n",
       "      <td>56500.0000</td>\n",
       "    </tr>\n",
       "    <tr>\n",
       "      <th>1</th>\n",
       "      <td>1971</td>\n",
       "      <td>49600.0000</td>\n",
       "    </tr>\n",
       "    <tr>\n",
       "      <th>2</th>\n",
       "      <td>1972</td>\n",
       "      <td>64800.0000</td>\n",
       "    </tr>\n",
       "    <tr>\n",
       "      <th>3</th>\n",
       "      <td>1973</td>\n",
       "      <td>91200.0000</td>\n",
       "    </tr>\n",
       "    <tr>\n",
       "      <th>4</th>\n",
       "      <td>1974</td>\n",
       "      <td>101600.0000</td>\n",
       "    </tr>\n",
       "    <tr>\n",
       "      <th>5</th>\n",
       "      <td>1975</td>\n",
       "      <td>112100.0000</td>\n",
       "    </tr>\n",
       "    <tr>\n",
       "      <th>6</th>\n",
       "      <td>1976</td>\n",
       "      <td>115300.0000</td>\n",
       "    </tr>\n",
       "    <tr>\n",
       "      <th>7</th>\n",
       "      <td>1977</td>\n",
       "      <td>111900.0000</td>\n",
       "    </tr>\n",
       "    <tr>\n",
       "      <th>8</th>\n",
       "      <td>1978</td>\n",
       "      <td>115200.0000</td>\n",
       "    </tr>\n",
       "    <tr>\n",
       "      <th>9</th>\n",
       "      <td>1979</td>\n",
       "      <td>129300.0000</td>\n",
       "    </tr>\n",
       "    <tr>\n",
       "      <th>10</th>\n",
       "      <td>1980</td>\n",
       "      <td>177100.0000</td>\n",
       "    </tr>\n",
       "    <tr>\n",
       "      <th>11</th>\n",
       "      <td>1981</td>\n",
       "      <td>151800.0000</td>\n",
       "    </tr>\n",
       "    <tr>\n",
       "      <th>12</th>\n",
       "      <td>1982</td>\n",
       "      <td>144800.0000</td>\n",
       "    </tr>\n",
       "    <tr>\n",
       "      <th>13</th>\n",
       "      <td>1983</td>\n",
       "      <td>202300.0000</td>\n",
       "    </tr>\n",
       "    <tr>\n",
       "      <th>14</th>\n",
       "      <td>1984</td>\n",
       "      <td>200700.0000</td>\n",
       "    </tr>\n",
       "    <tr>\n",
       "      <th>15</th>\n",
       "      <td>1985</td>\n",
       "      <td>204600.0000</td>\n",
       "    </tr>\n",
       "    <tr>\n",
       "      <th>16</th>\n",
       "      <td>1986</td>\n",
       "      <td>187100.0000</td>\n",
       "    </tr>\n",
       "    <tr>\n",
       "      <th>17</th>\n",
       "      <td>1987</td>\n",
       "      <td>189000.0000</td>\n",
       "    </tr>\n",
       "    <tr>\n",
       "      <th>18</th>\n",
       "      <td>1988</td>\n",
       "      <td>141400.0000</td>\n",
       "    </tr>\n",
       "    <tr>\n",
       "      <th>19</th>\n",
       "      <td>1989</td>\n",
       "      <td>152200.0000</td>\n",
       "    </tr>\n",
       "    <tr>\n",
       "      <th>20</th>\n",
       "      <td>1990</td>\n",
       "      <td>177300.0000</td>\n",
       "    </tr>\n",
       "    <tr>\n",
       "      <th>21</th>\n",
       "      <td>1991</td>\n",
       "      <td>189300.0000</td>\n",
       "    </tr>\n",
       "    <tr>\n",
       "      <th>22</th>\n",
       "      <td>1992</td>\n",
       "      <td>228400.0000</td>\n",
       "    </tr>\n",
       "    <tr>\n",
       "      <th>23</th>\n",
       "      <td>1993</td>\n",
       "      <td>246600.0000</td>\n",
       "    </tr>\n",
       "    <tr>\n",
       "      <th>24</th>\n",
       "      <td>1994</td>\n",
       "      <td>272100.0000</td>\n",
       "    </tr>\n",
       "    <tr>\n",
       "      <th>25</th>\n",
       "      <td>1995</td>\n",
       "      <td>225100.0000</td>\n",
       "    </tr>\n",
       "    <tr>\n",
       "      <th>26</th>\n",
       "      <td>1996</td>\n",
       "      <td>222700.0000</td>\n",
       "    </tr>\n",
       "    <tr>\n",
       "      <th>27</th>\n",
       "      <td>1997</td>\n",
       "      <td>264100.0000</td>\n",
       "    </tr>\n",
       "    <tr>\n",
       "      <th>28</th>\n",
       "      <td>1998</td>\n",
       "      <td>292100.0000</td>\n",
       "    </tr>\n",
       "    <tr>\n",
       "      <th>29</th>\n",
       "      <td>1999</td>\n",
       "      <td>328300.0000</td>\n",
       "    </tr>\n",
       "    <tr>\n",
       "      <th>30</th>\n",
       "      <td>2000</td>\n",
       "      <td>290412.0000</td>\n",
       "    </tr>\n",
       "    <tr>\n",
       "      <th>31</th>\n",
       "      <td>2001</td>\n",
       "      <td>292208.0000</td>\n",
       "    </tr>\n",
       "    <tr>\n",
       "      <th>32</th>\n",
       "      <td>2002</td>\n",
       "      <td>278456.0000</td>\n",
       "    </tr>\n",
       "    <tr>\n",
       "      <th>33</th>\n",
       "      <td>2003</td>\n",
       "      <td>287017.0000</td>\n",
       "    </tr>\n",
       "    <tr>\n",
       "      <th>34</th>\n",
       "      <td>2004</td>\n",
       "      <td>330441.0000</td>\n",
       "    </tr>\n",
       "    <tr>\n",
       "      <th>35</th>\n",
       "      <td>2005</td>\n",
       "      <td>331225.0000</td>\n",
       "    </tr>\n",
       "    <tr>\n",
       "      <th>36</th>\n",
       "      <td>2006</td>\n",
       "      <td>317856.0000</td>\n",
       "    </tr>\n",
       "    <tr>\n",
       "      <th>37</th>\n",
       "      <td>2007</td>\n",
       "      <td>309633.0000</td>\n",
       "    </tr>\n",
       "    <tr>\n",
       "      <th>38</th>\n",
       "      <td>2008</td>\n",
       "      <td>266244.0000</td>\n",
       "    </tr>\n",
       "    <tr>\n",
       "      <th>39</th>\n",
       "      <td>2009</td>\n",
       "      <td>222356.0000</td>\n",
       "    </tr>\n",
       "    <tr>\n",
       "      <th>40</th>\n",
       "      <td>2010</td>\n",
       "      <td>445796.0330</td>\n",
       "    </tr>\n",
       "    <tr>\n",
       "      <th>41</th>\n",
       "      <td>2011</td>\n",
       "      <td>386063.9941</td>\n",
       "    </tr>\n",
       "    <tr>\n",
       "      <th>42</th>\n",
       "      <td>2012</td>\n",
       "      <td>415279.8230</td>\n",
       "    </tr>\n",
       "    <tr>\n",
       "      <th>43</th>\n",
       "      <td>2013</td>\n",
       "      <td>435792.0900</td>\n",
       "    </tr>\n",
       "    <tr>\n",
       "      <th>44</th>\n",
       "      <td>2014</td>\n",
       "      <td>457921.9070</td>\n",
       "    </tr>\n",
       "    <tr>\n",
       "      <th>45</th>\n",
       "      <td>2015</td>\n",
       "      <td>508614.0000</td>\n",
       "    </tr>\n",
       "  </tbody>\n",
       "</table>\n",
       "</div>"
      ],
      "text/plain": [
       "       0            1\n",
       "0   1970   56500.0000\n",
       "1   1971   49600.0000\n",
       "2   1972   64800.0000\n",
       "3   1973   91200.0000\n",
       "4   1974  101600.0000\n",
       "5   1975  112100.0000\n",
       "6   1976  115300.0000\n",
       "7   1977  111900.0000\n",
       "8   1978  115200.0000\n",
       "9   1979  129300.0000\n",
       "10  1980  177100.0000\n",
       "11  1981  151800.0000\n",
       "12  1982  144800.0000\n",
       "13  1983  202300.0000\n",
       "14  1984  200700.0000\n",
       "15  1985  204600.0000\n",
       "16  1986  187100.0000\n",
       "17  1987  189000.0000\n",
       "18  1988  141400.0000\n",
       "19  1989  152200.0000\n",
       "20  1990  177300.0000\n",
       "21  1991  189300.0000\n",
       "22  1992  228400.0000\n",
       "23  1993  246600.0000\n",
       "24  1994  272100.0000\n",
       "25  1995  225100.0000\n",
       "26  1996  222700.0000\n",
       "27  1997  264100.0000\n",
       "28  1998  292100.0000\n",
       "29  1999  328300.0000\n",
       "30  2000  290412.0000\n",
       "31  2001  292208.0000\n",
       "32  2002  278456.0000\n",
       "33  2003  287017.0000\n",
       "34  2004  330441.0000\n",
       "35  2005  331225.0000\n",
       "36  2006  317856.0000\n",
       "37  2007  309633.0000\n",
       "38  2008  266244.0000\n",
       "39  2009  222356.0000\n",
       "40  2010  445796.0330\n",
       "41  2011  386063.9941\n",
       "42  2012  415279.8230\n",
       "43  2013  435792.0900\n",
       "44  2014  457921.9070\n",
       "45  2015  508614.0000"
      ]
     },
     "execution_count": 5,
     "metadata": {},
     "output_type": "execute_result"
    }
   ],
   "source": [
    "file= 'DATOS.csv'\n",
    "data= pd.read_csv(file, header=None)\n",
    "data"
   ]
  },
  {
   "cell_type": "code",
   "execution_count": 6,
   "metadata": {},
   "outputs": [],
   "source": [
    "import numpy as np\n",
    "import scipy.optimize as opt\n"
   ]
  },
  {
   "cell_type": "code",
   "execution_count": 13,
   "metadata": {},
   "outputs": [],
   "source": [
    "x = data.iloc[:,0].values/(1e4)\n",
    "y = data.iloc[:,1].values/(1e6)\n"
   ]
  },
  {
   "cell_type": "code",
   "execution_count": 14,
   "metadata": {},
   "outputs": [],
   "source": [
    "def fun_obj(b, x, y, n):\n",
    "    return np.sum((y-b.dot([x**i for i in range(n+1)]))**2)"
   ]
  },
  {
   "cell_type": "code",
   "execution_count": 15,
   "metadata": {},
   "outputs": [],
   "source": [
    "b01 = np.zeros(2)\n",
    "ajuste1 = opt.minimize(fun_obj, b01, args=(x,y,1))\n",
    "b02 = np.zeros(3)\n",
    "ajuste2 = opt.minimize(fun_obj, b02, args=(x,y,2))\n",
    "b03 = np.zeros(4)\n",
    "ajuste3 = opt.minimize(fun_obj, b03, args=(x,y,3))"
   ]
  },
  {
   "cell_type": "code",
   "execution_count": 16,
   "metadata": {},
   "outputs": [
    {
     "data": {
      "text/plain": [
       "      fun: 0.07293848748978365\n",
       " hess_inv: array([[  244.8493515, -1228.8004112],\n",
       "       [-1228.8004112,  6167.1287889]])\n",
       "      jac: array([-4.65661287e-09, -9.31322575e-10])\n",
       "  message: 'Optimization terminated successfully.'\n",
       "     nfev: 44\n",
       "      nit: 4\n",
       "     njev: 11\n",
       "   status: 0\n",
       "  success: True\n",
       "        x: array([-15.41164946,  78.51788672])"
      ]
     },
     "execution_count": 16,
     "metadata": {},
     "output_type": "execute_result"
    }
   ],
   "source": [
    "ajuste1"
   ]
  },
  {
   "cell_type": "code",
   "execution_count": 17,
   "metadata": {},
   "outputs": [
    {
     "data": {
      "text/plain": [
       "      fun: 0.0728967216220444\n",
       " hess_inv: array([[ 211.8639838 , -983.46874421, -400.40430173],\n",
       "       [-983.46874421, 4565.51846666, 1858.56465579],\n",
       "       [-400.40430173, 1858.56465579,  757.76222153]])\n",
       "      jac: array([-5.12227416e-08,  5.14090061e-07, -1.29081309e-06])\n",
       "  message: 'Optimization terminated successfully.'\n",
       "     nfev: 55\n",
       "      nit: 4\n",
       "     njev: 11\n",
       "   status: 0\n",
       "  success: True\n",
       "        x: array([-14.32056405,  67.56223386,  27.50036472])"
      ]
     },
     "execution_count": 17,
     "metadata": {},
     "output_type": "execute_result"
    }
   ],
   "source": [
    "ajuste2"
   ]
  },
  {
   "cell_type": "code",
   "execution_count": 18,
   "metadata": {},
   "outputs": [
    {
     "data": {
      "text/plain": [
       "      fun: 0.07288980862557365\n",
       " hess_inv: array([[ 208.50192624, -963.51659262, -392.31831163, -118.11367387],\n",
       "       [-963.51659262, 4452.81920392, 1812.85206315,  545.80649053],\n",
       "       [-392.31831163, 1812.85206315,  739.22075631,  222.26049213],\n",
       "       [-118.11367387,  545.80649053,  222.26049213,   67.91726625]])\n",
       "      jac: array([-6.33299351e-08,  5.97909093e-07, -1.25914812e-06, -8.30739737e-07])\n",
       "  message: 'Optimization terminated successfully.'\n",
       "     nfev: 66\n",
       "      nit: 4\n",
       "     njev: 11\n",
       "   status: 0\n",
       "  success: True\n",
       "        x: array([-14.20475888,  66.72385728,  27.16163116,   8.17680262])"
      ]
     },
     "execution_count": 18,
     "metadata": {},
     "output_type": "execute_result"
    }
   ],
   "source": [
    "ajuste3"
   ]
  },
  {
   "cell_type": "code",
   "execution_count": 20,
   "metadata": {},
   "outputs": [],
   "source": [
    "xpoints = x*1e4\n",
    "ypoints = y*1e6\n",
    "yhat1 = (ajuste1.x[0]+ajuste1.x[1]*xpoints/(1e4))*1e6\n",
    "yhat2 = (ajuste2.x[0]+ajuste2.x[1]*xpoints/(1e4)+\n",
    "         ajuste2.x[2]*(xpoints/(1e4))**2)*1e6\n",
    "yhat3 = (ajuste3.x[0]+ajuste3.x[1]*xpoints/(1e4)+\n",
    "         ajuste3.x[2]*(xpoints/(1e4))**2+\n",
    "         ajuste3.x[3]*(xpoints/(1e4))**3)*1e6"
   ]
  },
  {
   "cell_type": "code",
   "execution_count": 21,
   "metadata": {},
   "outputs": [],
   "source": [
    "import matplotlib.pyplot as plt"
   ]
  },
  {
   "cell_type": "code",
   "execution_count": 27,
   "metadata": {},
   "outputs": [
    {
     "data": {
      "text/plain": [
       "<matplotlib.legend.Legend at 0x1c4be387828>"
      ]
     },
     "execution_count": 27,
     "metadata": {},
     "output_type": "execute_result"
    },
    {
     "data": {
      "image/png": "[encoded data removed]",
      "text/plain": [
       "<Figure size 576x432 with 1 Axes>"
      ]
     },
     "metadata": {},
     "output_type": "display_data"
    }
   ],
   "source": [
    "plt.figure(figsize=(8,6))\n",
    "plt.plot(xpoints, ypoints, 'r*', ms=5, label='Datos')\n",
    "plt.plot(xpoints, yhat1, 'b', lw=2, label='Ajuste 1')\n",
    "plt.plot(xpoints, yhat2, 'k', lw=2, label='Ajuste 2')\n",
    "plt.plot(xpoints, yhat3, 'g', lw=2, label='Ajuste 3')\n",
    "plt.grid()\n",
    "plt.xlabel('Años')\n",
    "plt.ylabel('Población (miles de personas)')\n",
    "plt.legend(loc='best')"
   ]
  },
  {
   "cell_type": "code",
   "execution_count": 23,
   "metadata": {},
   "outputs": [
    {
     "data": {
      "text/plain": [
       "Text(0,0.5,'error')"
      ]
     },
     "execution_count": 23,
     "metadata": {},
     "output_type": "execute_result"
    },
    {
     "data": {
      "image/png": "[encoded data removed]",
      "text/plain": [
       "<Figure size 576x432 with 1 Axes>"
      ]
     },
     "metadata": {},
     "output_type": "display_data"
    }
   ],
   "source": [
    "error = [ajuste1.fun, ajuste2.fun, ajuste3.fun]\n",
    "plt.figure(figsize=(8,6))\n",
    "plt.plot(range(1,4), error, 'ro', ms=5)\n",
    "plt.xlabel('Orden del polinomio')\n",
    "plt.ylabel('error')"
   ]
  },
  {
   "cell_type": "code",
   "execution_count": null,
   "metadata": {},
   "outputs": [],
   "source": []
  }
 ],
 "metadata": {
  "anaconda-cloud": {},
  "kernelspec": {
   "display_name": "Python 3",
   "language": "python",
   "name": "python3"
  },
  "language_info": {
   "codemirror_mode": {
    "name": "ipython",
    "version": 3
   },
   "file_extension": ".py",
   "mimetype": "text/x-python",
   "name": "python",
   "nbconvert_exporter": "python",
   "pygments_lexer": "ipython3",
   "version": "3.6.5"
  }
 },
 "nbformat": 4,
 "nbformat_minor": 1
}
